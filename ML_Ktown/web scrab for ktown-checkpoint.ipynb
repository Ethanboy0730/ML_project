{
 "cells": [
  {
   "cell_type": "code",
   "execution_count": 1,
   "id": "e5c43bc3",
   "metadata": {},
   "outputs": [],
   "source": [
    "import pandas as pd\n",
    "import requests as req\n",
    "import json    \n"
   ]
  },
  {
   "cell_type": "code",
   "execution_count": 2,
   "id": "5134aeed",
   "metadata": {},
   "outputs": [],
   "source": [
    "districts=[\"三民區\",\"鼓山區\",\"苓雅區\",\"左營區\",\"新興區\",\"前金區\",\"鹽埕區\",\"前鎮區\"]"
   ]
  },
  {
   "cell_type": "code",
   "execution_count": 3,
   "id": "674951fa",
   "metadata": {},
   "outputs": [],
   "source": [
    "urls=[\"https://lvr.land.moi.gov.tw/SERVICE/QueryPrice/6160c27b50688a2fcf5d5f02b0bed460?q=VTJGc2RHVmtYMStUVDArdytha2xhVEdxMUVpcDhRZXRDWDgvb2p6VzcrbGdMZkpwTXZ4UDB2aVFkRlcyOUg5Uk1DZmhkVldHSVdEWWMzMVY5WE1PclFPSVRBMlZmaEZaQWJkRHh0d1JtUU5PalNuMEFYeWRRT3hEbVpHWXZjVytjc2xqNHdGZ1ZOeURCdFgvbXlhYnRGaE4yWGRYSjFOVnVCeExya0p5RnVNamFrS2UwUzhlTitGbGs2Q245RzZ6TXNMc3BXNENZVURqaVpzOVgxNWpmTUNIZmxuYlBuQnpGdlg3cmpBaTVoczZHYzNMYjh5dGhYY2hPL1Bxcjh1bWN6eHhyM3pKWUs3TnhGbSs0VGg0Nkkyek5hWlZRaUZ1QXlLTCt3elE3eURDdFRpMlphYVdsam92WFBHRXpMVWdnZmVmNmp1NzBIZlRlYWhSVFh0K1NVazRtTDRKeVZBT0pwaGgvM05mdjR2aC9GM25uKzJaMm9sVWphY09JUlZZZEdhV0l5UjFkVld1MU9ZRlhVdUhlRVh0bDVNWDVVMmhiSDlrSU00bHQ3QXh4cGZYMTZqcVFlbmRmcTZXcThiM1NULzBsNUUzVXhDdjFWbWViRXAyMEE0ekJxalFFbng3Vmt0WHhCdTF2VmtuYk1kUHNQZVpSZ1hvdWxPV0lmMDFMR1Z1Q0lnUXdVc0g2bjBDYnk4ZUVVSVdlSVpQRGM5d1ZaMEwyTU93YkNIdWEzWXprWVI0RmI1T1FPTVdhNm1Ka1Y4OGgrWkgzdXFWNFhrbVZIcWpNcTdrci9mbXczSk04YnJTUGtYRkJrZzA0aHNnalFZOU1GM3huYkZxeVV4b0ozc1ZMMERpRzFsQTVhak1zcGtWK3FZS0IzcVV4VnJrdC85S1grMjIxajIzcXV3Q3pNd3hQeEFrdDdYc29kTUVuUTc3Z3ExMEhmZGlwK0NHVzF2bk93PT0\",\n",
    "      \"https://lvr.land.moi.gov.tw/SERVICE/QueryPrice/18343e3319293b25012e6c4014850504?q=VTJGc2RHVmtYMS9sNlZnMzdUTGZCUFJGU3FTWDRydFFWaEdkWllVTTludDhZeUlhL2VoQ0R6SDBBMmpheTlpMkNwb3Z3TEhZcmJmR0FxWFMyWmVJd0VoS1JUMlduYTRWOTQ4UnlNNS82cFJoZ1huTUVBdytDVkpCcVJQSXF0aFYxUnUwb0ZMYWxKdXNvQlg0UkdvZk53VFdaM1E5clIrUkgvcFliK3BhbTRXSngwQjkvY2RKSjdTMVNURFFhYmxTUzVZakd4Lzh4akZUL3pjY2NTSWJjeE1EOUFoOHAyeWhsN0Q0b0g4MUVJT1d1aWhhd1ZRTDhYZHlIaUtDZTh4dkJHWmhGRGhvWXAyM0R1RmRtem5kOUtRN0pxK25pa2NqMVNYUVhxSTB4dDZpOXdlc3FaMmNyU3ExeWNGbWtHeXE1andyUDJZWlNtWklRQ2U1U1pLYTBsdUVOVTVKb3ViR0ZTUGxFbFFTU3R0VVMyZUd3WWJaa2k0MUxpczlCdUN0VTdlU2szcnk3MHkyOUFBZS9hbFNyUm05NXV3Ty96TzhJV2FKaENRbzFmWW00bnZXTXBzZEUzcEZwWkJacEN6R2FCbnJGNTVySGplSzkvNW5Gc0dpcG5VdzR3d0VhOHprcUc2SC90L1c2elRaRElVc3FvTWppWnlSZDN1WkFBMVFjMmxTUk01a3VGZWpEUWs0RHJIUUVZSC9neUgxSGtDSTNaR3hVKzl3eXNzdlJ6eElTTmZ4TGJMVm1ORVUzTzNuSlRIamVuSTJlK0FSRVlFNWtzWWx4U2VLMFBwcmF6UVJZNUJWclhRSmRRMTgrckR0eGNsS3NQcUgzVDd4Vk4vWXU2N0xtS0FvV1JpcE9OcjRUM2E1dUFzazhaRUdjSExvcFlFTmhjcDF5WkcrTW1kZitURzhRRjI4K1NZY0lkbmZobStHQWN4dlFzZUtpMWV3NWcwdXdQaUw1SmJxNG1Kemd0UUQzY3JabEUwPQ\",\n",
    "      \"https://lvr.land.moi.gov.tw/SERVICE/QueryPrice/7f043f9740f5041dbe13b5f3e493d344?q=VTJGc2RHVmtYMTh6bDFDeWxnZHBpVmhjS0MvR3IvRlVmcWdzb1pmc25yWlZBdHVOQnFKR3B0U0hRQ1dRL2RZSUpBSzZ3WDl0cWpUTGhraUNaN040djNxbHRnVktKRVM2NkhRVTZVVVd3MDZLYnBQTDcxWkl2dXU0VjBWUlZZYjJxYkRhOExqN0xnMEVVbnlhUVN4WXpLVHozUUd4RlBHaklJQnRQVWUvNjJHRVlWcW8rN21iS2U3NCsyU25JYWd3aUp6Q0RjREZJUndZR3pwMDVLYnNoM1dMT1BhSll6WUxyUDNwcFlDY2cyNE1VRTZoSDRYaGdjcGRuVms4YjJpak4yek14eEZ5cnpZZlRKbUhvdisxSzVoVldLVmxNRGVKU09pZ0FnNXNiTzQ5V2NmRVQyMmhaSEh5QWttZVRYTllqSUpVTm91ZWsrWHlNK1psWllHTUp5QjFaRFVFSkRORnd3YTd2Ymc0ZlBGSElqb0pIWkJWdjM1cnZnY21WeDAvMUI4cVk3UlljWUZPZjRHdDd4WVZFZ05JeCtvNnl2NnJnL1RmZzBmeEtEZ21malo1VGFuQnJ3UnZhTS9lQXo3a09OQUpDQVo2MGNXbGRyWEprQ055OC9GZVRJMVkzZGRhbDU4dld3WVpmQnRLKzd3bkFLZ0hGdGQ3eW5CMzdWNE5yWjNmbmRVQzVjU3VjUHhwc2owZmJxWTFzRFI2NTd2M0xueHhna2tDZ2FQbE1BY0FqTDNSY05SS3hDUmR2dGxZYnN3OVJnMnJTNVF0cFloRGdCMHpzdExjVURrY3dQNUtYOUY0dG9MN0ttOUVJSjFzUUhleTcrb1VCaEhXZ05ES0JkTFptT3lka0FYc1dabS9aRktsMEM5b1Z4ajg3UUhPelpObStNU1N3VEhLeVBxL29wWkRlSFZ3M3BSKzV5ZXBFbkdjVGQyY0RxUnBwb0hMeTZzb0U0SWYxYlZORlh6cnNqWDVHM2Y5NVVFPQ\",\n",
    "     \"https://lvr.land.moi.gov.tw/SERVICE/QueryPrice/9c0d5da9749e7fabb78255500d948c43?q=VTJGc2RHVmtYMThuQlRPMVl1SnVUTDBLZmQreXZQTldkS2dwNkZWRndvcUVWc1Bpd1o2M2VQZDQ2Q2ZRNTVGODJqK2NONTRzekIzVmlEVFlrbC9ISTA0MmpUVDlTbTc5S1RENFJ4Q2s3bGUyWGFmRS9wdnpUUVhFNlk1WE9xclFqRWR6OUtiemU2S3NLODlmSmVKbHVFcjE5NkNMamNIY0N5L1VzS1RvU3dycnBDaWJXdjlxNzRTcy9zTUlpcHBGRVdrMGtTQzJZVm1paFl3azNHeEVmMHE0anlCYUFldHcvSWpTZWVkZ1ZuU3ZaUDdHdDJxK3gzcDc5TjVmQWZyRFpwdVJBYXBYSTIzdDBpU0p2Snh3ekkrZnJMalJSUjRITU5OdDlEMDJrb1p3dU9MM25kdExybVlqRng3ajFSRzV4SUlnbC8xV04yTUJ5MG1NaVRoeTZnM2FMdksyczlBdk1IeVdkNUg2ZUNMNDlFalJ0aENmYWg1S29FdG43QnVoVVRxcWtkMytMdVAvOC9SYldaby9saW9rY0FoWUJSU3ViMEM2T3VYRVFqN0hFYU1Ed1ROVk5iSW4weHdkRFdySytsczB1MzRaOWxuMFV5MVdyTFliRFJIWVo0N2RGRExGcnRGUjBvM1VpYVQvNzVCWk9FTnp3RnVNVjN3UnNuK2QwakNWbzM5Tk1lUCtKVXFMZ0pvUGxzb0NXUDBPWXljU2Z1U1FmZzFPVVRWZWNEUURmd1FmQ3g3bmtXS2xxMUFORTFOdG1mb3RWbnMwVjJLeUh2SkdhUktuTzdaanJsMC93c0lBMlNVdVVEdVNRelhkdlVjUTJQQzRvbXkrZktGZkgweTkweDUwamcvbFludk13MUxRRllaNHhTa28vUkVyK0tYODBLWEtFNTJNbTVMUi9aYlE1V2lKTVJRUXJ5cUR3RzEvTDlGdmsrRkNIN2YwZGcwRlJGUnpmOUQ3TEl6V2E0V0Rkd0ozQ3JzPQ\",\n",
    "     \"https://lvr.land.moi.gov.tw/SERVICE/QueryPrice/18b69efb60e60250734848810eb7fc63?q=VTJGc2RHVmtYMStFd0V2MjZSOU1hWko3eDBjd0xmajBDZUtSM3htS05BZHJXKzVHRkVvOVRDRFliNGcxNDN6VXNJdXJadzh4L2cwUEh2aXhYdFpHMTVGYTZSd05YRFhGVFp2MFhWYjVrd1hoR1hsU2tNcTk2UTJMcWNTRXhUbXFnWlFhZ3VESXRMRms2VWhLWFF4RUxxS2I1QzZPZEY0em8zd2ppdFAxMmRxb0w0R0Nldmk3dWxXNHdKMExRVUFGMTVaNjZwTldkZExFYzJCYmZHOW00L00xN0hHUElOYndmdFdSVVZRU3ZYcDJCMjI3eTVZamdiN3plMlRQTytUWDlxR29mZWVkdkgxTlRwcEE1OGZQSkwyQkFwaU5pcmZKaHZEdVhKOEVzbXFlM216L1JEWGF4NVkxRHdtcllrYzZTRExSNzlkZjNrT0RsTjJGU0Q5clgxUTRVV0V0OTlENzBMQkRXaVI4OU5aYkpuS0FvS0dFUmRCTUxLM0JveXp4QWtFRXJ2Y05zVWFVb21nSFdjOEl6c0tGYUE4T2dmNzhwSFBkbC9ObjhOeHBmRk1PODJjeXlRNDlmVXg4c3R6SnJFaVFEeXdIbFJwOVZNdzRRV3cwejBTa1d5RXVjQnJvNkxMREJDVS9CUHk4NlpxaTU0TnE0RlhwZklsTmljUFJmT3VIdkxNYUI0YlRPSnhicUFIM0FvTk1BQjJzVnl6OVp3VSt5RFBnNmhFYXpXWTE4eTgwNUFnSDNYSFBmTkNvVWhGTk5lcEJKQ0gxaTU3NEVONkxETkhYVlhFMVh6RjdPQjdTZENBeHBGaWpxTjBlQjVPSUc5SUd6NS9paWRJd2Nib0RhZEZRdGZVZHpxWWpRNFRpVVdDdUVPNm9JdXpYZ2t1QnQ4MUc4NGYxZ2pSc1h3YUdrWVZhUEQzMWlSL3RGd1l4eVdlNnlGU3ZwbWxXMElReDYxQXE0LzhiM1ZRZnd4ZEVxVzJsZzhNPQ\",\n",
    "     \"https://lvr.land.moi.gov.tw/SERVICE/QueryPrice/749636bae7d57343c3ca612cb20d06b8?q=VTJGc2RHVmtYMTlwQ2d2YW5aZENkRUdLVkFTa1hCb0tDSzlVZTNxVm5OOXV6cnRrdmpYOUlYbnJUNmJONzN2NEdqYXZqL1ViNTBybXZuem1YRWRwaXczaGJQRExudTVFaDhwV2p3UXVvRUlkR2FkWWtVbVpOREVyTG96c0hrbEtBSUFtTG83ZTVnblMxeDVWQ3RnWThsRGdYUUFTaXZyUzVIM2x2a1l0QUt1WFNpeGx2bDRMQXRoUzdadkpySnFOYlBuRWFFYklIVHF6KzVzQVoxTEo3amN5cmdYYU1DWDFTamM1NzUrZmVFMTYrYThMeStKaGhPSDlnY0hsMW45R0k4OUZMb0c4NDY4VXpSVnhIcFQ4VDBvd0xBRTRRUGpXeldWQTZpN0hFd2FzQzFiOFpBYURMNjVYVURSbW94eC8vRituc2V2THBtcGtoMmZWZEphVWFPSFowRDdIdkZtTDRiR1dMUFRMamlTTS96KzFzcVozUVZweDZTTHBQeFdkUkdrS0tCVlJFL0F6L0M1eDFZKzVwMGxTb20ybWRSeTBLMXhkQnErczA2WWQyZUxkOVZNRVNQSlVuVlJkV1QzR0MzNDdUendrQlBKNHZVRk9NM2twdTlTa1RWc1pZTlpDTnlhdmo3dG95QkQ1a3pUTjdqS1QwVzBGSVI3WjczSEliZ0RVMUpBTFlVZG9KNTJENTZ3VCtCYU14QXpwNk1hOHRxZmtwM2s4cC94R3Q4SkI3bHpiZFdRenlDak12WTV0SXVrVjJGQitTZXViYUxYYjBjNGpXd1hoRXBFekRYSW83ZFZsSS90bFVuS3NGbzhRbW5hYnV3ZGgyQXN6RHUwYW9tMEZMajRWMlRvR1JGcW5XcXdHenhGQVdvcUhJODlZTzhyeVBzNUV5L2NYbUs2YWhYZXcxSWJoWUc3MUpHajJld1EvU2UwbEc0K1ZqQ0lEeGpnUUNRPT0\",\n",
    "     \"https://lvr.land.moi.gov.tw/SERVICE/QueryPrice/e5477be6a0ab505289216c41f4e184fa?q=VTJGc2RHVmtYMTlaR3k5a0YzMUZZRTdzV1RJM1pTcGI2VmxZNGlteFVkN2h2OE5LbHNCM3AyYmxGZ0tyL2x6U1hNWXN6MElpSTZJT1B5U3dWM054QXdRSTZCRkJUYlRieU11NFZOWlhzVmF0SFpBeTd1RytaL3pQb2F1cmMvcmsra2NaNXM5MS9rVHIzRWJ5WDEwVXU0SzEzVmJKei84dE9nYlR3S21MUnNPaXVNZzg5YmlqU21saFpWUXhUMW5DYVJUemZXNXloaTdlcWJYTHl3RXV2TFpjcURJQzZpdHJRWjZZUkdQekpNK3Y4eGszS01mVUxBdFFGZDJXcUUzU0ZDcHJNVE8yOHYydWljS1hnc2RJb0ZDMGhsY3hDeTd4SnFCUEtBQnJiU0QxYmVrcG5hVEFpbzc1ZXVVMUFoZThyMFEwSVRpZkJibFNJZnRiR1BZcERIc2tucDh2Y3pQWjRQcWxBNzlzQXozejZEaUhmODlFZStLdFgwYWdyYnhEeit5RUF4ZVZNVU5VL01raVdJNmc4Z3NBWWNLTEh1aHg4OGFTZkNwUlYwYUwxODl5Mllxa01qMUs0d284bko4bWlUZENSQkdDWWZ1T21mSzBlNmQrS1g4K0pEWkJGQ1V5Q1QyOFZESVZOQS9SS2xBVzhHY2t5M05INmkrZzlXcUp3Z2pxRkNqdlNNalBYd3lrRlN5MnM3bDBmemtpMnc3ZTdMU3Q2cW8zc0hXVDVicDY5QzBwYVZZNmt2UzNZcnJUR3crRHBLR05tak5HTjQyaHZwdzdmTmI4WndYbU0zQmpCSXErTE41bjkzNzFxWU1Qc0FRTGZwaXEyNnl6MGRKbzg0ZDZkcTZsUEpxUHpRRC9CVTMrVkk5di9hRFVuT2EweDlZTUJxWW9UVS8vL2pueE1RK0MzUVcyODhja1VxSG9sclRaR09scG9YN0hsQ1MycTJSOFdnPT0\",\n",
    "     \"https://lvr.land.moi.gov.tw/SERVICE/QueryPrice/e51f6689436ef51479313e118ce648a6?q=VTJGc2RHVmtYMStsZUxBeVhlWERidkRJZXRTaWZodFBOT2lndGxFZUhBempqM1RObTcvcTZtS1ROYm9KM09tMjUyTGVIVDJSaENkOE9DQTdrNFdUK1FsWUtNcnozOXh6ZnQ0VWZCU2JWOTlFeVVsYlFnNzRrb2FYSUJFUEprcW1XOXN0Z05zSys5aUwrSmxreUNINUNmbEhqRDV3Lzl2Rk92MXlxRHdxWmx3SDYvQ1ZBTlNpTlZiZ3hnZ0czMEJ2Tkt0NlZoL1I1N0FYaEd3M3M1WHNibjZWYXZPdGY5b1c2MXVucWhFTlJNYlowVkFYakxFK0lVSUE1MW43anJ2NVpHc0RGMkI3L3c2RmV3bWExckcxUm8vVm4xVEZFRnE4aXlkbDNDVjkwc3A3YlhXeUlrY1g0R01iTTlXWEIxWHZyenVhYkduYUVRclR1Zi9PRk9lOUdlUUFoOEVsNTlOelVGTjVZajFSWWlyZStNUWxCN2F2NDRUKzgxcHFwVUJKZmRxek1DZVFONjdVaHpId1N2WUZyU1ZiY05KYTcvbUdacHJoM0hLRjRTbEY5dWJYcmRjWGhjWFg1RGdQNXB0TlVVTndIRVQ0SURCbGJ5akJwNExwVTBQSXRxNUlmMDN1UFp4K2k4eFE1NWxlMGpZbHYzSnM5M0NiYXFaNndLOW9QSkRNenU1R0JzMWxzWWlUWFhWVWhGRFJsRkh6QlFCTEZHUnVKdmRoTGs2a2FjVzFGNEdWWXQ4REt6SHVQRTRjLytjUlo4bjlYYk0zdE1qaDA5UnRQOE52eUw5a1VIcm5rUEY3MUR5ZXFrZDhtQmphb1EwaW5ZREVtWnhJQWowNGoyUGdSWnVYUDNmUmpoSjhBRzNoTXRheFpQTDdTRmo3MVZSYUhLUHhtYnN5RWkyNkhPbTJUeFVrMk04VUo1WUJsQ21VMXljb1ArTlpQZFdYSTVKMFFnPT0\"]\n",
    "\n",
    "\n",
    "\n",
    "\n",
    "\n",
    "\n"
   ]
  },
  {
   "cell_type": "code",
   "execution_count": 4,
   "id": "119ebbec",
   "metadata": {},
   "outputs": [],
   "source": [
    "df = pd.DataFrame()\n"
   ]
  },
  {
   "cell_type": "code",
   "execution_count": 5,
   "id": "891601c2",
   "metadata": {},
   "outputs": [
    {
     "name": "stdout",
     "output_type": "stream",
     "text": [
      "正再爬取 「三民區」 109年1月至113年1月的資料\n",
      "一共抓到 17985 筆高雄市三民區 109年1月至113年1月的資料\n",
      "正再爬取 「鼓山區」 109年1月至113年1月的資料\n",
      "一共抓到 9191 筆高雄市鼓山區 109年1月至113年1月的資料\n",
      "正再爬取 「苓雅區」 109年1月至113年1月的資料\n",
      "一共抓到 10717 筆高雄市苓雅區 109年1月至113年1月的資料\n",
      "正再爬取 「左營區」 109年1月至113年1月的資料\n",
      "一共抓到 10954 筆高雄市左營區 109年1月至113年1月的資料\n",
      "正再爬取 「新興區」 109年1月至113年1月的資料\n",
      "一共抓到 2947 筆高雄市新興區 109年1月至113年1月的資料\n",
      "正再爬取 「前金區」 109年1月至113年1月的資料\n",
      "一共抓到 2963 筆高雄市前金區 109年1月至113年1月的資料\n",
      "正再爬取 「鹽埕區」 109年1月至113年1月的資料\n",
      "一共抓到 1112 筆高雄市鹽埕區 109年1月至113年1月的資料\n",
      "正再爬取 「前鎮區」 109年1月至113年1月的資料\n",
      "一共抓到 7195 筆高雄市前鎮區 109年1月至113年1月的資料\n"
     ]
    }
   ],
   "source": [
    "for i in range(0,8):\n",
    "    print('正再爬取 「{0}」 109年1月至113年1月的資料'.format(districts[i]))\n",
    "    resp=req.get(urls[i])\n",
    "    data=json.loads(resp.text)\n",
    "    print('一共抓到 {0} 筆高雄市{1} 109年1月至113年1月的資料'.format(len(data),districts[i]))\n",
    "\n",
    "    house_object=[]\n",
    "    for object in data :  \n",
    "        one_object={}              \n",
    "        one_object['經度']= object['lon']            # 經度\n",
    "        one_object['緯度']= object['lat']            # 緯度     \n",
    "        one_object['屋齡'] = object['g']             # 屋齡\n",
    "        one_object['面積'] = object['s']             # 面積    \n",
    "        one_object['建物類型'] = object['b']         # 建物型態     \n",
    "        one_object['用途'] = object['pu']            # 主要用途    \n",
    "        one_object['樓別/樓高'] = object['f']        # 樓別/樓高   \n",
    "        one_object['佈局'] = object['v']            # 幾房幾衛幾廳\n",
    "        one_object['電梯'] = object['el']           # 有無電梯       \n",
    "        one_object['管理員'] = object['m']          # 有無管理員          \n",
    "        one_object['車位數量'] = object['l']        # 車位數量   \n",
    "        one_object['成交日期'] = object['e']        # 成交日期   \n",
    "        one_object['價格'] = object['tp']           # 價格\n",
    "        house_object.append(one_object)\n",
    "        cols=['經度','緯度','屋齡','面積','建物類型','用途',\n",
    "        '樓別/樓高','佈局','電梯','管理員','車位數量',\n",
    "        '成交日期','價格']\n",
    "    df_house = pd.DataFrame (house_object, columns = cols) # 將list 轉換為 dataframe\n",
    "    df_house['行政區'] = districts[i]\n",
    "    df_house['交易年份'] = df_house['成交日期'].apply(lambda x: x.split('/')[0])        \n",
    "    df = pd.concat([df,df_house],axis=0)\n",
    "    "
   ]
  },
  {
   "cell_type": "code",
   "execution_count": 6,
   "id": "18066bff",
   "metadata": {},
   "outputs": [
    {
     "name": "stdout",
     "output_type": "stream",
     "text": [
      "完成\n"
     ]
    }
   ],
   "source": [
    "df.drop(['成交日期'],axis=1,inplace=True)\n",
    "df = df.reset_index(drop=True)\n",
    "print('完成')\n",
    "\n",
    "\n",
    "        \n"
   ]
  },
  {
   "cell_type": "code",
   "execution_count": 7,
   "id": "c5346686",
   "metadata": {},
   "outputs": [],
   "source": [
    "df.to_csv('高雄市房價.csv',index=False)"
   ]
  },
  {
   "cell_type": "code",
   "execution_count": null,
   "id": "03127a3b",
   "metadata": {},
   "outputs": [],
   "source": []
  },
  {
   "cell_type": "code",
   "execution_count": null,
   "id": "6a05f77a",
   "metadata": {},
   "outputs": [],
   "source": []
  },
  {
   "cell_type": "code",
   "execution_count": null,
   "id": "0b6ddf92",
   "metadata": {},
   "outputs": [],
   "source": []
  },
  {
   "cell_type": "code",
   "execution_count": null,
   "id": "39dd43c8",
   "metadata": {},
   "outputs": [],
   "source": []
  }
 ],
 "metadata": {
  "kernelspec": {
   "display_name": "Python 3 (ipykernel)",
   "language": "python",
   "name": "python3"
  },
  "language_info": {
   "codemirror_mode": {
    "name": "ipython",
    "version": 3
   },
   "file_extension": ".py",
   "mimetype": "text/x-python",
   "name": "python",
   "nbconvert_exporter": "python",
   "pygments_lexer": "ipython3",
   "version": "3.11.4"
  }
 },
 "nbformat": 4,
 "nbformat_minor": 5
}
